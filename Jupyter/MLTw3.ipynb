{
 "cells": [
  {
   "cell_type": "markdown",
   "metadata": {},
   "source": [
    "![](https://backend.seek.onlinedegree.iitm.ac.in/22t1_cs2007/assets/img/com1.png)"
   ]
  },
  {
   "cell_type": "markdown",
   "metadata": {},
   "source": [
    "![](https://backend.seek.onlinedegree.iitm.ac.in/22t1_cs2007/assets/img/W3G8.JPG)"
   ]
  },
  {
   "cell_type": "code",
   "execution_count": 26,
   "metadata": {},
   "outputs": [
    {
     "name": "stdout",
     "output_type": "stream",
     "text": [
      "(array([0.        , 0.02040816, 0.04081633, 0.06122449, 0.08163265,\n",
      "       0.10204082, 0.12244898, 0.14285714, 0.16326531, 0.18367347,\n",
      "       0.20408163, 0.2244898 , 0.24489796, 0.26530612, 0.28571429,\n",
      "       0.30612245, 0.32653061, 0.34693878, 0.36734694, 0.3877551 ,\n",
      "       0.40816327, 0.42857143, 0.44897959, 0.46938776, 0.48979592,\n",
      "       0.51020408, 0.53061224, 0.55102041, 0.57142857, 0.59183673,\n",
      "       0.6122449 , 0.63265306, 0.65306122, 0.67346939, 0.69387755,\n",
      "       0.71428571, 0.73469388, 0.75510204, 0.7755102 , 0.79591837,\n",
      "       0.81632653, 0.83673469, 0.85714286, 0.87755102, 0.89795918,\n",
      "       0.91836735, 0.93877551, 0.95918367, 0.97959184, 1.        ]), array([-0.02155501,  0.18331135,  0.28539484,  0.39712449,  0.52798198,\n",
      "        0.52554369,  0.64772389,  0.81892689,  0.92708645,  0.9497985 ,\n",
      "        0.97637596,  1.00402214,  1.00908639,  0.96902095,  0.95322638,\n",
      "        0.83169132,  0.8723968 ,  0.78165503,  0.75400533,  0.71675424,\n",
      "        0.4367544 ,  0.29466465,  0.24068853,  0.13581378, -0.00408711,\n",
      "       -0.09716413, -0.21281831, -0.26703947, -0.40691135, -0.60151286,\n",
      "       -0.62690344, -0.80689344, -0.80399519, -0.9533533 , -0.91359949,\n",
      "       -1.05732924, -1.04309943, -0.96315908, -1.03259126, -1.04317788,\n",
      "       -0.99032715, -0.73118558, -0.76670139, -0.763065  , -0.58647794,\n",
      "       -0.40995069, -0.46997599, -0.24978817, -0.12461647,  0.07579372]))\n"
     ]
    }
   ],
   "source": [
    "def create_nonlin_training_set (func, sample_size, std):\n",
    "    x = np. linspace (0, 1, sample_size) \n",
    "    y = func(x) + np.random.normal (scale = std, size=x.shape) \n",
    "    return x, y \n",
    "def nonlin(x): \n",
    "    return np.sin (2* np. pi * x)\n",
    "\n",
    "print(create_nonlin_training_set (nonlin, 50, std=0.05))"
   ]
  },
  {
   "cell_type": "markdown",
   "metadata": {},
   "source": [
    "![](https://backend.seek.onlinedegree.iitm.ac.in/22t1_cs2007/assets/img/MQ7.png?seed%3D73849%26url%3Dassets%2Fimg%2FMQ7.png)"
   ]
  },
  {
   "cell_type": "code",
   "execution_count": 6,
   "metadata": {},
   "outputs": [
    {
     "name": "stdout",
     "output_type": "stream",
     "text": [
      "[[1 2]\n",
      " [3 4]]\n",
      "[[5 6]\n",
      " [7 8]]\n",
      "[ 7.5 10.5]\n"
     ]
    }
   ],
   "source": [
    "import numpy as np \n",
    "a= np.arange(1,5).reshape(-1,2) \n",
    "b= np.arange (5,9). reshape (2,-1)\n",
    "print(a)\n",
    "print(b)\n",
    "print (a.mean (axis= 0)+b. mean (axis = 1))"
   ]
  },
  {
   "cell_type": "code",
   "execution_count": 1,
   "metadata": {},
   "outputs": [],
   "source": [
    "import numpy as np"
   ]
  },
  {
   "cell_type": "code",
   "execution_count": 5,
   "metadata": {},
   "outputs": [
    {
     "name": "stdout",
     "output_type": "stream",
     "text": [
      "[[1 2]\n",
      " [1 2]] [[0. 0.]\n",
      " [0. 0.]]\n"
     ]
    }
   ],
   "source": [
    "a=np.array([[1,2],[1,2]])\n",
    "b=np.zeros(a.shape)\n",
    "print(a,b)\n"
   ]
  },
  {
   "cell_type": "code",
   "execution_count": 6,
   "metadata": {},
   "outputs": [
    {
     "name": "stdout",
     "output_type": "stream",
     "text": [
      "[1. 2. 3.]\n"
     ]
    }
   ],
   "source": [
    "a=np.array([[1,2,3],[1,2,3],[1,2,3]])\n",
    "colsum=np.sum(a,axis=0)  #axis=0 means down the column and axis=1 means across a row ->\n",
    "mean=colsum/a.shape[0]\n",
    "print(mean)"
   ]
  },
  {
   "cell_type": "code",
   "execution_count": 10,
   "metadata": {},
   "outputs": [
    {
     "name": "stdout",
     "output_type": "stream",
     "text": [
      "[[18]\n",
      " [19]\n",
      " [20]]\n"
     ]
    }
   ],
   "source": [
    "x=a\n",
    "x.shape\n",
    "w=np.array([[1],[2],[3]])\n",
    "w.shape\n",
    "b=np.array([[4],[5],[6]])\n",
    "if x.shape[1]==w.shape[0]:\n",
    "    print(x@w+b)\n",
    "else:\n",
    "    print(\"incompatible\")\n"
   ]
  },
  {
   "cell_type": "code",
   "execution_count": 11,
   "metadata": {},
   "outputs": [
    {
     "name": "stdout",
     "output_type": "stream",
     "text": [
      "[[1 4 9]\n",
      " [1 4 9]\n",
      " [1 4 9]]\n"
     ]
    }
   ],
   "source": [
    "w1=np.array([[1,2,3],[1,2,3],[1,2,3]])\n",
    "print(x*w1)"
   ]
  },
  {
   "cell_type": "code",
   "execution_count": 21,
   "metadata": {},
   "outputs": [
    {
     "name": "stdout",
     "output_type": "stream",
     "text": [
      "[[ 7 10]\n",
      " [15 22]]\n",
      "[[ 7 10]\n",
      " [15 22]]\n",
      "[[ 1  4]\n",
      " [ 9 16]]\n",
      "[[ 1  4]\n",
      " [ 9 16]]\n"
     ]
    }
   ],
   "source": [
    "u=np.array([[1,2],[3,4]])\n",
    "v=np.array([[1,2],[3,4]])\n",
    "print(np.dot(u,v))  #matrix multiplication\n",
    "print(u@v)   #matrix multiplication\n",
    "print(u*v)    #hadamard product\n",
    "print(np.multiply(u,v))   #hadamard product\n"
   ]
  },
  {
   "cell_type": "code",
   "execution_count": 31,
   "metadata": {},
   "outputs": [
    {
     "ename": "ModuleNotFoundError",
     "evalue": "No module named 'openCV'",
     "output_type": "error",
     "traceback": [
      "\u001b[1;31m---------------------------------------------------------------------------\u001b[0m",
      "\u001b[1;31mModuleNotFoundError\u001b[0m                       Traceback (most recent call last)",
      "\u001b[1;32m~\\AppData\\Local\\Temp/ipykernel_11560/2565396686.py\u001b[0m in \u001b[0;36m<module>\u001b[1;34m\u001b[0m\n\u001b[1;32m----> 1\u001b[1;33m \u001b[1;32mimport\u001b[0m \u001b[0mopenCV\u001b[0m\u001b[1;33m\u001b[0m\u001b[1;33m\u001b[0m\u001b[0m\n\u001b[0m",
      "\u001b[1;31mModuleNotFoundError\u001b[0m: No module named 'openCV'"
     ]
    }
   ],
   "source": [
    "import openCV"
   ]
  }
 ],
 "metadata": {
  "interpreter": {
   "hash": "f08154012ddadd8e950e6e9e035c7a7b32c136e7647e9b7c77e02eb723a8bedb"
  },
  "kernelspec": {
   "display_name": "Python 3.9.7 ('base')",
   "language": "python",
   "name": "python3"
  },
  "language_info": {
   "codemirror_mode": {
    "name": "ipython",
    "version": 3
   },
   "file_extension": ".py",
   "mimetype": "text/x-python",
   "name": "python",
   "nbconvert_exporter": "python",
   "pygments_lexer": "ipython3",
   "version": "3.9.7"
  },
  "orig_nbformat": 4
 },
 "nbformat": 4,
 "nbformat_minor": 2
}
