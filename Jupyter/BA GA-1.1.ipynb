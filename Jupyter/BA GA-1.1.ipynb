{
  "cells": [
    {
      "cell_type": "code",
      "execution_count": 4,
      "metadata": {
        "id": "Sds4Ba87Q18R"
      },
      "outputs": [],
      "source": [
        "import numpy as np\n",
        "import pandas as pd"
      ]
    },
    {
      "cell_type": "code",
      "execution_count": 29,
      "metadata": {
        "colab": {
          "base_uri": "https://localhost:8080/",
          "height": 311
        },
        "id": "y_LNT1L8Q18T",
        "outputId": "fae5b919-a564-45ac-c31c-211443eb7901"
      },
      "outputs": [],
      "source": [
        "df = pd.read_excel('C:/Users/User/Downloads/data1.xlsx')"
      ]
    },
    {
      "cell_type": "code",
      "execution_count": 6,
      "metadata": {
        "colab": {
          "base_uri": "https://localhost:8080/",
          "height": 423
        },
        "id": "KMNSlXpRQ18V",
        "outputId": "19a732cb-bf9f-4b90-e9e1-69124a446aae"
      },
      "outputs": [
        {
          "data": {
            "text/html": [
              "<div>\n",
              "<style scoped>\n",
              "    .dataframe tbody tr th:only-of-type {\n",
              "        vertical-align: middle;\n",
              "    }\n",
              "\n",
              "    .dataframe tbody tr th {\n",
              "        vertical-align: top;\n",
              "    }\n",
              "\n",
              "    .dataframe thead th {\n",
              "        text-align: right;\n",
              "    }\n",
              "</style>\n",
              "<table border=\"1\" class=\"dataframe\">\n",
              "  <thead>\n",
              "    <tr style=\"text-align: right;\">\n",
              "      <th></th>\n",
              "      <th>obs</th>\n",
              "    </tr>\n",
              "  </thead>\n",
              "  <tbody>\n",
              "    <tr>\n",
              "      <th>0</th>\n",
              "      <td>20.710038</td>\n",
              "    </tr>\n",
              "    <tr>\n",
              "      <th>1</th>\n",
              "      <td>20.035838</td>\n",
              "    </tr>\n",
              "    <tr>\n",
              "      <th>2</th>\n",
              "      <td>18.924596</td>\n",
              "    </tr>\n",
              "    <tr>\n",
              "      <th>3</th>\n",
              "      <td>16.312833</td>\n",
              "    </tr>\n",
              "    <tr>\n",
              "      <th>4</th>\n",
              "      <td>12.170810</td>\n",
              "    </tr>\n",
              "  </tbody>\n",
              "</table>\n",
              "</div>"
            ],
            "text/plain": [
              "         obs\n",
              "0  20.710038\n",
              "1  20.035838\n",
              "2  18.924596\n",
              "3  16.312833\n",
              "4  12.170810"
            ]
          },
          "execution_count": 6,
          "metadata": {},
          "output_type": "execute_result"
        }
      ],
      "source": [
        "df.head()"
      ]
    },
    {
      "cell_type": "code",
      "execution_count": 7,
      "metadata": {
        "colab": {
          "base_uri": "https://localhost:8080/",
          "height": 265
        },
        "id": "6jPVuNzWQ18Y",
        "outputId": "daa025f7-f41d-4be6-c805-d417cdc53219"
      },
      "outputs": [
        {
          "data": {
            "image/png": "[encoded data removed]",
            "text/plain": [
              "<Figure size 432x288 with 1 Axes>"
            ]
          },
          "metadata": {
            "needs_background": "light"
          },
          "output_type": "display_data"
        }
      ],
      "source": [
        "import matplotlib.pyplot as plt\n",
        "plt.hist(df['obs'])\n",
        "plt.show()"
      ]
    },
    {
      "cell_type": "code",
      "execution_count": 89,
      "metadata": {},
      "outputs": [
        {
          "data": {
            "text/plain": [
              "(array([ 4.,  6.,  7., 17.,  8.,  6.]),\n",
              " array([ 6.99510332, 10.6728652 , 14.35062709, 18.02838897, 21.70615086,\n",
              "        25.38391274, 29.06167462]),\n",
              " <BarContainer object of 6 artists>)"
            ]
          },
          "execution_count": 89,
          "metadata": {},
          "output_type": "execute_result"
        },
        {
          "data": {
            "image/png": "[encoded data removed]",
            "text/plain": [
              "<Figure size 432x288 with 1 Axes>"
            ]
          },
          "metadata": {
            "needs_background": "light"
          },
          "output_type": "display_data"
        }
      ],
      "source": [
        "plt.hist(df['obs'],bins=6)"
      ]
    },
    {
      "cell_type": "code",
      "execution_count": 8,
      "metadata": {
        "colab": {
          "base_uri": "https://localhost:8080/",
          "height": 300
        },
        "id": "PWOtfOj_Q18Z",
        "outputId": "8e3b273b-b102-4288-9fe3-93675239b0e7"
      },
      "outputs": [
        {
          "data": {
            "text/html": [
              "<div>\n",
              "<style scoped>\n",
              "    .dataframe tbody tr th:only-of-type {\n",
              "        vertical-align: middle;\n",
              "    }\n",
              "\n",
              "    .dataframe tbody tr th {\n",
              "        vertical-align: top;\n",
              "    }\n",
              "\n",
              "    .dataframe thead th {\n",
              "        text-align: right;\n",
              "    }\n",
              "</style>\n",
              "<table border=\"1\" class=\"dataframe\">\n",
              "  <thead>\n",
              "    <tr style=\"text-align: right;\">\n",
              "      <th></th>\n",
              "      <th>obs</th>\n",
              "    </tr>\n",
              "  </thead>\n",
              "  <tbody>\n",
              "    <tr>\n",
              "      <th>count</th>\n",
              "      <td>48.000000</td>\n",
              "    </tr>\n",
              "    <tr>\n",
              "      <th>mean</th>\n",
              "      <td>19.006886</td>\n",
              "    </tr>\n",
              "    <tr>\n",
              "      <th>std</th>\n",
              "      <td>5.392988</td>\n",
              "    </tr>\n",
              "    <tr>\n",
              "      <th>min</th>\n",
              "      <td>6.995103</td>\n",
              "    </tr>\n",
              "    <tr>\n",
              "      <th>25%</th>\n",
              "      <td>16.198008</td>\n",
              "    </tr>\n",
              "    <tr>\n",
              "      <th>50%</th>\n",
              "      <td>19.359880</td>\n",
              "    </tr>\n",
              "    <tr>\n",
              "      <th>75%</th>\n",
              "      <td>23.335490</td>\n",
              "    </tr>\n",
              "    <tr>\n",
              "      <th>max</th>\n",
              "      <td>29.061675</td>\n",
              "    </tr>\n",
              "  </tbody>\n",
              "</table>\n",
              "</div>"
            ],
            "text/plain": [
              "             obs\n",
              "count  48.000000\n",
              "mean   19.006886\n",
              "std     5.392988\n",
              "min     6.995103\n",
              "25%    16.198008\n",
              "50%    19.359880\n",
              "75%    23.335490\n",
              "max    29.061675"
            ]
          },
          "execution_count": 8,
          "metadata": {},
          "output_type": "execute_result"
        }
      ],
      "source": [
        "df.describe()"
      ]
    },
    {
      "cell_type": "code",
      "execution_count": 9,
      "metadata": {
        "colab": {
          "base_uri": "https://localhost:8080/"
        },
        "id": "vKefNspsQ18a",
        "outputId": "bd7c7a79-6123-4986-90b5-078831b084ee"
      },
      "outputs": [
        {
          "name": "stdout",
          "output_type": "stream",
          "text": [
            "{('Kurt Observed', -0.31), ('Variance Observed', 29.08), ('Skew Observed', -0.29), ('Mean Observed', 19.01)}\n"
          ]
        }
      ],
      "source": [
        "stats_labels = ['Mean Observed', 'Variance Observed', 'Skew Observed', 'Kurt Observed']\n",
        "stats_values = [round(df['obs'].mean(), 2), round(df['obs'].var(), 2), round(df['obs'].skew(),2), round(df['obs'].kurt(),2)]\n",
        "print(set(zip(stats_labels, stats_values)))"
      ]
    },
    {
      "cell_type": "code",
      "execution_count": 31,
      "metadata": {
        "colab": {
          "base_uri": "https://localhost:8080/"
        },
        "id": "t9dmsBjoQ18a",
        "outputId": "06323f0c-96ff-4560-f00f-fc4837daa6fb"
      },
      "outputs": [
        {
          "data": {
            "text/plain": [
              "obs    19.35988\n",
              "dtype: float64"
            ]
          },
          "execution_count": 31,
          "metadata": {},
          "output_type": "execute_result"
        }
      ],
      "source": [
        "df.median()"
      ]
    },
    {
      "cell_type": "code",
      "execution_count": 11,
      "metadata": {
        "colab": {
          "base_uri": "https://localhost:8080/"
        },
        "id": "24rAwgBSSpiL",
        "outputId": "d2a8bb85-a9fc-4e18-9223-488b81530b1a"
      },
      "outputs": [],
      "source": [
        "import statsmodels.api as sm\n",
        "import scipy.stats as stats"
      ]
    },
    {
      "cell_type": "code",
      "execution_count": 12,
      "metadata": {
        "colab": {
          "base_uri": "https://localhost:8080/",
          "height": 295
        },
        "id": "yTdV6ErYLEpM",
        "outputId": "ea73f63a-dd58-4fad-ad8c-21e525f379f5"
      },
      "outputs": [
        {
          "data": {
            "image/png": "[encoded data removed]",
            "text/plain": [
              "<Figure size 432x288 with 1 Axes>"
            ]
          },
          "metadata": {
            "needs_background": "light"
          },
          "output_type": "display_data"
        }
      ],
      "source": [
        "import matplotlib.pyplot as pltp\n",
        "stats.probplot(df['obs'], plot=plt)  #standard normall distribution\n",
        "plt.show()"
      ]
    },
    {
      "cell_type": "code",
      "execution_count": 81,
      "metadata": {},
      "outputs": [
        {
          "data": {
            "image/png": "[encoded data removed]",
            "text/plain": [
              "<Figure size 432x288 with 1 Axes>"
            ]
          },
          "metadata": {
            "needs_background": "light"
          },
          "output_type": "display_data"
        }
      ],
      "source": [
        "stats.probplot(df['obs'],dist='uniform',plot=plt) #uniform distribition\n",
        "plt.show()"
      ]
    },
    {
      "cell_type": "code",
      "execution_count": 32,
      "metadata": {
        "colab": {
          "base_uri": "https://localhost:8080/",
          "height": 295
        },
        "id": "IQPYFgwUQ18b",
        "outputId": "a9c39f4c-765a-4fc3-85dd-e5892c643cbe"
      },
      "outputs": [
        {
          "data": {
            "image/png": "[encoded data removed]",
            "text/plain": [
              "<Figure size 432x288 with 1 Axes>"
            ]
          },
          "metadata": {
            "needs_background": "light"
          },
          "output_type": "display_data"
        }
      ],
      "source": [
        "stats.probplot(df['obs'], dist='poisson', sparams=(19.01), plot=plt)\n",
        "plt.show() #poisson distribution\n"
      ]
    },
    {
      "cell_type": "code",
      "execution_count": 15,
      "metadata": {
        "colab": {
          "base_uri": "https://localhost:8080/"
        },
        "id": "ADwa841DQ18d",
        "outputId": "7d8e86c5-717d-4a87-94c1-49594202d73e"
      },
      "outputs": [
        {
          "name": "stdout",
          "output_type": "stream",
          "text": [
            "         obs\n",
            "0  20.710038\n",
            "1  20.035838\n",
            "2  18.924596\n",
            "3  16.312833\n",
            "4  12.170810\n"
          ]
        }
      ],
      "source": [
        "print(df.head())"
      ]
    },
    {
      "cell_type": "code",
      "execution_count": 82,
      "metadata": {},
      "outputs": [],
      "source": [
        "df['exp']=19.006886"
      ]
    },
    {
      "cell_type": "code",
      "execution_count": 86,
      "metadata": {},
      "outputs": [
        {
          "data": {
            "text/html": [
              "<div>\n",
              "<style scoped>\n",
              "    .dataframe tbody tr th:only-of-type {\n",
              "        vertical-align: middle;\n",
              "    }\n",
              "\n",
              "    .dataframe tbody tr th {\n",
              "        vertical-align: top;\n",
              "    }\n",
              "\n",
              "    .dataframe thead th {\n",
              "        text-align: right;\n",
              "    }\n",
              "</style>\n",
              "<table border=\"1\" class=\"dataframe\">\n",
              "  <thead>\n",
              "    <tr style=\"text-align: right;\">\n",
              "      <th></th>\n",
              "      <th>obs</th>\n",
              "      <th>exp</th>\n",
              "    </tr>\n",
              "  </thead>\n",
              "  <tbody>\n",
              "    <tr>\n",
              "      <th>0</th>\n",
              "      <td>20.710038</td>\n",
              "      <td>19.006886</td>\n",
              "    </tr>\n",
              "    <tr>\n",
              "      <th>1</th>\n",
              "      <td>20.035838</td>\n",
              "      <td>19.006886</td>\n",
              "    </tr>\n",
              "    <tr>\n",
              "      <th>2</th>\n",
              "      <td>18.924596</td>\n",
              "      <td>19.006886</td>\n",
              "    </tr>\n",
              "    <tr>\n",
              "      <th>3</th>\n",
              "      <td>16.312833</td>\n",
              "      <td>19.006886</td>\n",
              "    </tr>\n",
              "    <tr>\n",
              "      <th>4</th>\n",
              "      <td>12.170810</td>\n",
              "      <td>19.006886</td>\n",
              "    </tr>\n",
              "    <tr>\n",
              "      <th>5</th>\n",
              "      <td>16.352038</td>\n",
              "      <td>19.006886</td>\n",
              "    </tr>\n",
              "    <tr>\n",
              "      <th>6</th>\n",
              "      <td>28.362005</td>\n",
              "      <td>19.006886</td>\n",
              "    </tr>\n",
              "    <tr>\n",
              "      <th>7</th>\n",
              "      <td>21.379978</td>\n",
              "      <td>19.006886</td>\n",
              "    </tr>\n",
              "    <tr>\n",
              "      <th>8</th>\n",
              "      <td>18.963487</td>\n",
              "      <td>19.006886</td>\n",
              "    </tr>\n",
              "    <tr>\n",
              "      <th>9</th>\n",
              "      <td>19.821240</td>\n",
              "      <td>19.006886</td>\n",
              "    </tr>\n",
              "    <tr>\n",
              "      <th>10</th>\n",
              "      <td>15.853531</td>\n",
              "      <td>19.006886</td>\n",
              "    </tr>\n",
              "    <tr>\n",
              "      <th>11</th>\n",
              "      <td>10.178644</td>\n",
              "      <td>19.006886</td>\n",
              "    </tr>\n",
              "    <tr>\n",
              "      <th>12</th>\n",
              "      <td>26.195534</td>\n",
              "      <td>19.006886</td>\n",
              "    </tr>\n",
              "    <tr>\n",
              "      <th>13</th>\n",
              "      <td>10.789854</td>\n",
              "      <td>19.006886</td>\n",
              "    </tr>\n",
              "    <tr>\n",
              "      <th>14</th>\n",
              "      <td>20.446334</td>\n",
              "      <td>19.006886</td>\n",
              "    </tr>\n",
              "    <tr>\n",
              "      <th>15</th>\n",
              "      <td>24.097128</td>\n",
              "      <td>19.006886</td>\n",
              "    </tr>\n",
              "    <tr>\n",
              "      <th>16</th>\n",
              "      <td>22.515949</td>\n",
              "      <td>19.006886</td>\n",
              "    </tr>\n",
              "    <tr>\n",
              "      <th>17</th>\n",
              "      <td>23.865719</td>\n",
              "      <td>19.006886</td>\n",
              "    </tr>\n",
              "    <tr>\n",
              "      <th>18</th>\n",
              "      <td>19.700080</td>\n",
              "      <td>19.006886</td>\n",
              "    </tr>\n",
              "    <tr>\n",
              "      <th>19</th>\n",
              "      <td>26.468041</td>\n",
              "      <td>19.006886</td>\n",
              "    </tr>\n",
              "    <tr>\n",
              "      <th>20</th>\n",
              "      <td>24.942782</td>\n",
              "      <td>19.006886</td>\n",
              "    </tr>\n",
              "    <tr>\n",
              "      <th>21</th>\n",
              "      <td>18.657691</td>\n",
              "      <td>19.006886</td>\n",
              "    </tr>\n",
              "    <tr>\n",
              "      <th>22</th>\n",
              "      <td>23.485144</td>\n",
              "      <td>19.006886</td>\n",
              "    </tr>\n",
              "    <tr>\n",
              "      <th>23</th>\n",
              "      <td>6.995103</td>\n",
              "      <td>19.006886</td>\n",
              "    </tr>\n",
              "    <tr>\n",
              "      <th>24</th>\n",
              "      <td>18.883162</td>\n",
              "      <td>19.006886</td>\n",
              "    </tr>\n",
              "    <tr>\n",
              "      <th>25</th>\n",
              "      <td>13.048969</td>\n",
              "      <td>19.006886</td>\n",
              "    </tr>\n",
              "    <tr>\n",
              "      <th>26</th>\n",
              "      <td>11.575366</td>\n",
              "      <td>19.006886</td>\n",
              "    </tr>\n",
              "    <tr>\n",
              "      <th>27</th>\n",
              "      <td>17.536214</td>\n",
              "      <td>19.006886</td>\n",
              "    </tr>\n",
              "    <tr>\n",
              "      <th>28</th>\n",
              "      <td>23.312821</td>\n",
              "      <td>19.006886</td>\n",
              "    </tr>\n",
              "    <tr>\n",
              "      <th>29</th>\n",
              "      <td>29.061675</td>\n",
              "      <td>19.006886</td>\n",
              "    </tr>\n",
              "    <tr>\n",
              "      <th>30</th>\n",
              "      <td>16.983871</td>\n",
              "      <td>19.006886</td>\n",
              "    </tr>\n",
              "    <tr>\n",
              "      <th>31</th>\n",
              "      <td>19.485734</td>\n",
              "      <td>19.006886</td>\n",
              "    </tr>\n",
              "    <tr>\n",
              "      <th>32</th>\n",
              "      <td>27.787240</td>\n",
              "      <td>19.006886</td>\n",
              "    </tr>\n",
              "    <tr>\n",
              "      <th>33</th>\n",
              "      <td>19.857464</td>\n",
              "      <td>19.006886</td>\n",
              "    </tr>\n",
              "    <tr>\n",
              "      <th>34</th>\n",
              "      <td>14.209545</td>\n",
              "      <td>19.006886</td>\n",
              "    </tr>\n",
              "    <tr>\n",
              "      <th>35</th>\n",
              "      <td>9.590593</td>\n",
              "      <td>19.006886</td>\n",
              "    </tr>\n",
              "    <tr>\n",
              "      <th>36</th>\n",
              "      <td>7.640148</td>\n",
              "      <td>19.006886</td>\n",
              "    </tr>\n",
              "    <tr>\n",
              "      <th>37</th>\n",
              "      <td>18.316169</td>\n",
              "      <td>19.006886</td>\n",
              "    </tr>\n",
              "    <tr>\n",
              "      <th>38</th>\n",
              "      <td>19.585819</td>\n",
              "      <td>19.006886</td>\n",
              "    </tr>\n",
              "    <tr>\n",
              "      <th>39</th>\n",
              "      <td>19.975352</td>\n",
              "      <td>19.006886</td>\n",
              "    </tr>\n",
              "    <tr>\n",
              "      <th>40</th>\n",
              "      <td>18.330848</td>\n",
              "      <td>19.006886</td>\n",
              "    </tr>\n",
              "    <tr>\n",
              "      <th>41</th>\n",
              "      <td>13.367388</td>\n",
              "      <td>19.006886</td>\n",
              "    </tr>\n",
              "    <tr>\n",
              "      <th>42</th>\n",
              "      <td>24.294740</td>\n",
              "      <td>19.006886</td>\n",
              "    </tr>\n",
              "    <tr>\n",
              "      <th>43</th>\n",
              "      <td>26.147285</td>\n",
              "      <td>19.006886</td>\n",
              "    </tr>\n",
              "    <tr>\n",
              "      <th>44</th>\n",
              "      <td>15.488801</td>\n",
              "      <td>19.006886</td>\n",
              "    </tr>\n",
              "    <tr>\n",
              "      <th>45</th>\n",
              "      <td>19.234026</td>\n",
              "      <td>19.006886</td>\n",
              "    </tr>\n",
              "    <tr>\n",
              "      <th>46</th>\n",
              "      <td>17.989393</td>\n",
              "      <td>19.006886</td>\n",
              "    </tr>\n",
              "    <tr>\n",
              "      <th>47</th>\n",
              "      <td>23.403495</td>\n",
              "      <td>19.006886</td>\n",
              "    </tr>\n",
              "  </tbody>\n",
              "</table>\n",
              "</div>"
            ],
            "text/plain": [
              "          obs        exp\n",
              "0   20.710038  19.006886\n",
              "1   20.035838  19.006886\n",
              "2   18.924596  19.006886\n",
              "3   16.312833  19.006886\n",
              "4   12.170810  19.006886\n",
              "5   16.352038  19.006886\n",
              "6   28.362005  19.006886\n",
              "7   21.379978  19.006886\n",
              "8   18.963487  19.006886\n",
              "9   19.821240  19.006886\n",
              "10  15.853531  19.006886\n",
              "11  10.178644  19.006886\n",
              "12  26.195534  19.006886\n",
              "13  10.789854  19.006886\n",
              "14  20.446334  19.006886\n",
              "15  24.097128  19.006886\n",
              "16  22.515949  19.006886\n",
              "17  23.865719  19.006886\n",
              "18  19.700080  19.006886\n",
              "19  26.468041  19.006886\n",
              "20  24.942782  19.006886\n",
              "21  18.657691  19.006886\n",
              "22  23.485144  19.006886\n",
              "23   6.995103  19.006886\n",
              "24  18.883162  19.006886\n",
              "25  13.048969  19.006886\n",
              "26  11.575366  19.006886\n",
              "27  17.536214  19.006886\n",
              "28  23.312821  19.006886\n",
              "29  29.061675  19.006886\n",
              "30  16.983871  19.006886\n",
              "31  19.485734  19.006886\n",
              "32  27.787240  19.006886\n",
              "33  19.857464  19.006886\n",
              "34  14.209545  19.006886\n",
              "35   9.590593  19.006886\n",
              "36   7.640148  19.006886\n",
              "37  18.316169  19.006886\n",
              "38  19.585819  19.006886\n",
              "39  19.975352  19.006886\n",
              "40  18.330848  19.006886\n",
              "41  13.367388  19.006886\n",
              "42  24.294740  19.006886\n",
              "43  26.147285  19.006886\n",
              "44  15.488801  19.006886\n",
              "45  19.234026  19.006886\n",
              "46  17.989393  19.006886\n",
              "47  23.403495  19.006886"
            ]
          },
          "execution_count": 86,
          "metadata": {},
          "output_type": "execute_result"
        }
      ],
      "source": [
        "df"
      ]
    },
    {
      "cell_type": "code",
      "execution_count": 87,
      "metadata": {},
      "outputs": [],
      "source": [
        "from scipy.stats import chisquare\n"
      ]
    },
    {
      "cell_type": "code",
      "execution_count": 88,
      "metadata": {},
      "outputs": [
        {
          "ename": "ValueError",
          "evalue": "For each axis slice, the sum of the observed frequencies must agree with the sum of the expected frequencies to a relative tolerance of 1e-08, but the percent differences are:\n1.1971062085928953e-08",
          "output_type": "error",
          "traceback": [
            "\u001b[1;31m---------------------------------------------------------------------------\u001b[0m",
            "\u001b[1;31mValueError\u001b[0m                                Traceback (most recent call last)",
            "\u001b[1;32m~\\AppData\\Local\\Temp/ipykernel_13652/1528937224.py\u001b[0m in \u001b[0;36m<module>\u001b[1;34m\u001b[0m\n\u001b[1;32m----> 1\u001b[1;33m \u001b[0mchisquare\u001b[0m\u001b[1;33m(\u001b[0m\u001b[0mdf\u001b[0m\u001b[1;33m[\u001b[0m\u001b[1;34m'obs'\u001b[0m\u001b[1;33m]\u001b[0m\u001b[1;33m,\u001b[0m\u001b[0mdf\u001b[0m\u001b[1;33m[\u001b[0m\u001b[1;34m'exp'\u001b[0m\u001b[1;33m]\u001b[0m\u001b[1;33m)\u001b[0m\u001b[1;33m\u001b[0m\u001b[1;33m\u001b[0m\u001b[0m\n\u001b[0m",
            "\u001b[1;32mc:\\Users\\User\\anaconda3\\lib\\site-packages\\scipy\\stats\\stats.py\u001b[0m in \u001b[0;36mchisquare\u001b[1;34m(f_obs, f_exp, ddof, axis)\u001b[0m\n\u001b[0;32m   6850\u001b[0m \u001b[1;33m\u001b[0m\u001b[0m\n\u001b[0;32m   6851\u001b[0m     \"\"\"\n\u001b[1;32m-> 6852\u001b[1;33m     return power_divergence(f_obs, f_exp=f_exp, ddof=ddof, axis=axis,\n\u001b[0m\u001b[0;32m   6853\u001b[0m                             lambda_=\"pearson\")\n\u001b[0;32m   6854\u001b[0m \u001b[1;33m\u001b[0m\u001b[0m\n",
            "\u001b[1;32mc:\\Users\\User\\anaconda3\\lib\\site-packages\\scipy\\stats\\stats.py\u001b[0m in \u001b[0;36mpower_divergence\u001b[1;34m(f_obs, f_exp, ddof, axis, lambda_)\u001b[0m\n\u001b[0;32m   6692\u001b[0m                    \u001b[1;34mf\"of {rtol}, but the percent differences are:\\n\"\u001b[0m\u001b[1;33m\u001b[0m\u001b[1;33m\u001b[0m\u001b[0m\n\u001b[0;32m   6693\u001b[0m                    f\"{relative_diff}\")\n\u001b[1;32m-> 6694\u001b[1;33m             \u001b[1;32mraise\u001b[0m \u001b[0mValueError\u001b[0m\u001b[1;33m(\u001b[0m\u001b[0mmsg\u001b[0m\u001b[1;33m)\u001b[0m\u001b[1;33m\u001b[0m\u001b[1;33m\u001b[0m\u001b[0m\n\u001b[0m\u001b[0;32m   6695\u001b[0m \u001b[1;33m\u001b[0m\u001b[0m\n\u001b[0;32m   6696\u001b[0m     \u001b[1;32melse\u001b[0m\u001b[1;33m:\u001b[0m\u001b[1;33m\u001b[0m\u001b[1;33m\u001b[0m\u001b[0m\n",
            "\u001b[1;31mValueError\u001b[0m: For each axis slice, the sum of the observed frequencies must agree with the sum of the expected frequencies to a relative tolerance of 1e-08, but the percent differences are:\n1.1971062085928953e-08"
          ]
        }
      ],
      "source": [
        "chisquare(df['obs'],df['exp'])"
      ]
    },
    {
      "cell_type": "code",
      "execution_count": 17,
      "metadata": {
        "id": "lRetgEafQ18d"
      },
      "outputs": [],
      "source": [
        "grouped_df = pd.DataFrame()"
      ]
    },
    {
      "cell_type": "code",
      "execution_count": 18,
      "metadata": {
        "colab": {
          "base_uri": "https://localhost:8080/",
          "height": 425
        },
        "id": "Qm0LV4GEQ18e",
        "outputId": "be694b21-c226-40fd-83a4-a0ffbacee7b6"
      },
      "outputs": [
        {
          "data": {
            "text/html": [
              "<div>\n",
              "<style scoped>\n",
              "    .dataframe tbody tr th:only-of-type {\n",
              "        vertical-align: middle;\n",
              "    }\n",
              "\n",
              "    .dataframe tbody tr th {\n",
              "        vertical-align: top;\n",
              "    }\n",
              "\n",
              "    .dataframe thead th {\n",
              "        text-align: right;\n",
              "    }\n",
              "</style>\n",
              "<table border=\"1\" class=\"dataframe\">\n",
              "  <thead>\n",
              "    <tr style=\"text-align: right;\">\n",
              "      <th></th>\n",
              "      <th>frequency</th>\n",
              "    </tr>\n",
              "    <tr>\n",
              "      <th>obs</th>\n",
              "      <th></th>\n",
              "    </tr>\n",
              "  </thead>\n",
              "  <tbody>\n",
              "    <tr>\n",
              "      <th>6.995103</th>\n",
              "      <td>1</td>\n",
              "    </tr>\n",
              "    <tr>\n",
              "      <th>7.640148</th>\n",
              "      <td>1</td>\n",
              "    </tr>\n",
              "    <tr>\n",
              "      <th>9.590593</th>\n",
              "      <td>1</td>\n",
              "    </tr>\n",
              "    <tr>\n",
              "      <th>10.178644</th>\n",
              "      <td>1</td>\n",
              "    </tr>\n",
              "    <tr>\n",
              "      <th>10.789854</th>\n",
              "      <td>1</td>\n",
              "    </tr>\n",
              "  </tbody>\n",
              "</table>\n",
              "</div>"
            ],
            "text/plain": [
              "           frequency\n",
              "obs                 \n",
              "6.995103           1\n",
              "7.640148           1\n",
              "9.590593           1\n",
              "10.178644          1\n",
              "10.789854          1"
            ]
          },
          "execution_count": 18,
          "metadata": {},
          "output_type": "execute_result"
        }
      ],
      "source": [
        "grouped_df['frequency']= df.groupby('obs')['obs'].count()\n",
        "grouped_df.head()"
      ]
    },
    {
      "cell_type": "code",
      "execution_count": 19,
      "metadata": {
        "colab": {
          "base_uri": "https://localhost:8080/"
        },
        "id": "8d_7itu-ZuiS",
        "outputId": "9e0e0820-607e-4a59-abfd-e3b13b2bfa46"
      },
      "outputs": [
        {
          "data": {
            "text/plain": [
              "48"
            ]
          },
          "execution_count": 19,
          "metadata": {},
          "output_type": "execute_result"
        }
      ],
      "source": [
        "len(df)"
      ]
    },
    {
      "cell_type": "code",
      "execution_count": 84,
      "metadata": {
        "colab": {
          "base_uri": "https://localhost:8080/"
        },
        "id": "f_vmfp0BQ18e",
        "outputId": "403ca3ef-2a13-4dbf-f696-be959a90ddf5"
      },
      "outputs": [
        {
          "name": "stdout",
          "output_type": "stream",
          "text": [
            "           frequency  OBS_PROBA  POISSON_PMF     Normal_pdf  POISSON_FREQ  \\\n",
            "obs                                                                         \n",
            "6.995103           1   0.020833          0.0   9.453144e-12           0.0   \n",
            "7.640148           1   0.020833          0.0   8.425972e-14           0.0   \n",
            "9.590593           1   0.020833          0.0   4.244460e-21           0.0   \n",
            "10.178644          1   0.020833          0.0   1.268858e-23           0.0   \n",
            "10.789854          1   0.020833          0.0   2.091318e-26           0.0   \n",
            "11.575366          1   0.020833          0.0   3.202942e-30           0.0   \n",
            "12.170810          1   0.020833          0.0   2.723893e-33           0.0   \n",
            "13.048969          1   0.020833          0.0   4.227045e-38           0.0   \n",
            "13.367388          1   0.020833          0.0   6.302418e-40           0.0   \n",
            "14.209545          1   0.020833          0.0   5.707603e-45           0.0   \n",
            "15.488801          1   0.020833          0.0   3.211045e-53           0.0   \n",
            "15.853531          1   0.020833          0.0   1.057617e-55           0.0   \n",
            "16.312833          1   0.020833          0.0   6.549016e-59           0.0   \n",
            "16.352038          1   0.020833          0.0   3.452178e-59           0.0   \n",
            "16.983871          1   0.020833          0.0   9.212558e-64           0.0   \n",
            "17.536214          1   0.020833          0.0   6.668820e-68           0.0   \n",
            "17.989393          1   0.020833          0.0   2.128603e-71           0.0   \n",
            "18.316169          1   0.020833          0.0   5.648161e-74           0.0   \n",
            "18.330848          1   0.020833          0.0   4.316120e-74           0.0   \n",
            "18.657691          1   0.020833          0.0   1.023078e-76           0.0   \n",
            "18.883162          1   0.020833          0.0   1.485577e-78           0.0   \n",
            "18.924596          1   0.020833          0.0   6.787780e-79           0.0   \n",
            "18.963487          1   0.020833          0.0   3.249034e-79           0.0   \n",
            "19.234026          1   0.020833          0.0   1.852562e-81           0.0   \n",
            "19.485734          1   0.020833          0.0   1.417233e-83           0.0   \n",
            "19.585819          1   0.020833          0.0   2.005813e-84           0.0   \n",
            "19.700080          1   0.020833          0.0   2.125951e-85           0.0   \n",
            "19.821240          1   0.020833          0.0   1.939835e-86           0.0   \n",
            "19.857464          1   0.020833          0.0   9.454907e-87           0.0   \n",
            "19.975352          1   0.020833          0.0   9.035978e-88           0.0   \n",
            "20.035838          1   0.020833          0.0   2.694350e-88           0.0   \n",
            "20.446334          1   0.020833          0.0   6.636583e-92           0.0   \n",
            "20.710038          1   0.020833          0.0   2.918951e-94           0.0   \n",
            "21.379978          1   0.020833          0.0  2.198629e-100           0.0   \n",
            "22.515949          1   0.020833          0.0  3.267474e-111           0.0   \n",
            "23.312821          1   0.020833          0.0  3.837674e-119           0.0   \n",
            "23.403495          1   0.020833          0.0  4.615835e-120           0.0   \n",
            "23.485144          1   0.020833          0.0  6.806324e-121           0.0   \n",
            "23.865719          1   0.020833          0.0  8.313812e-125           0.0   \n",
            "24.097128          1   0.020833          0.0  3.233527e-127           0.0   \n",
            "24.294740          1   0.020833          0.0  2.711091e-129           0.0   \n",
            "24.942782          1   0.020833          0.0  3.194586e-136           0.0   \n",
            "26.147285          1   0.020833          0.0  1.385402e-149           0.0   \n",
            "26.195534          1   0.020833          0.0  3.918987e-150           0.0   \n",
            "26.468041          1   0.020833          0.0  2.998136e-153           0.0   \n",
            "27.787240          1   0.020833          0.0  8.607113e-169           0.0   \n",
            "28.362005          1   0.020833          0.0  8.451692e-176           0.0   \n",
            "29.061675          1   0.020833          0.0  1.594010e-184           0.0   \n",
            "\n",
            "           Normal_freq  \n",
            "obs                     \n",
            "6.995103           0.0  \n",
            "7.640148           0.0  \n",
            "9.590593           0.0  \n",
            "10.178644          0.0  \n",
            "10.789854          0.0  \n",
            "11.575366          0.0  \n",
            "12.170810          0.0  \n",
            "13.048969          0.0  \n",
            "13.367388          0.0  \n",
            "14.209545          0.0  \n",
            "15.488801          0.0  \n",
            "15.853531          0.0  \n",
            "16.312833          0.0  \n",
            "16.352038          0.0  \n",
            "16.983871          0.0  \n",
            "17.536214          0.0  \n",
            "17.989393          0.0  \n",
            "18.316169          0.0  \n",
            "18.330848          0.0  \n",
            "18.657691          0.0  \n",
            "18.883162          0.0  \n",
            "18.924596          0.0  \n",
            "18.963487          0.0  \n",
            "19.234026          0.0  \n",
            "19.485734          0.0  \n",
            "19.585819          0.0  \n",
            "19.700080          0.0  \n",
            "19.821240          0.0  \n",
            "19.857464          0.0  \n",
            "19.975352          0.0  \n",
            "20.035838          0.0  \n",
            "20.446334          0.0  \n",
            "20.710038          0.0  \n",
            "21.379978          0.0  \n",
            "22.515949          0.0  \n",
            "23.312821          0.0  \n",
            "23.403495          0.0  \n",
            "23.485144          0.0  \n",
            "23.865719          0.0  \n",
            "24.097128          0.0  \n",
            "24.294740          0.0  \n",
            "24.942782          0.0  \n",
            "26.147285          0.0  \n",
            "26.195534          0.0  \n",
            "26.468041          0.0  \n",
            "27.787240          0.0  \n",
            "28.362005          0.0  \n",
            "29.061675          0.0  \n"
          ]
        }
      ],
      "source": [
        "grouped_df['OBS_PROBA'] = grouped_df['frequency']/len(df)\n",
        "print(grouped_df)"
      ]
    },
    {
      "cell_type": "code",
      "execution_count": 22,
      "metadata": {
        "id": "9-LMft9AQ18f"
      },
      "outputs": [],
      "source": [
        "from scipy import stats\n",
        "from scipy.stats import poisson\n",
        "from scipy.stats import norm\n",
        "from scipy.stats import chisquare"
      ]
    },
    {
      "cell_type": "code",
      "execution_count": 24,
      "metadata": {},
      "outputs": [
        {
          "data": {
            "text/plain": [
              "<bound method rv_continuous.pdf of <scipy.stats._continuous_distns.norm_gen object at 0x000001F82BA10490>>"
            ]
          },
          "execution_count": 24,
          "metadata": {},
          "output_type": "execute_result"
        }
      ],
      "source": [
        "norm.pdf()"
      ]
    },
    {
      "cell_type": "markdown",
      "metadata": {
        "colab": {
          "base_uri": "https://localhost:8080/"
        },
        "id": "DsVM8xmOQ18f",
        "outputId": "eda5d8d0-19d9-49fd-93fb-41b66fe0bf59"
      },
      "source": [
        "poisson.pmf"
      ]
    },
    {
      "cell_type": "code",
      "execution_count": 27,
      "metadata": {
        "colab": {
          "base_uri": "https://localhost:8080/"
        },
        "id": "V5Jm1eWAaETP",
        "outputId": "eea14cd5-1325-4524-afa6-d55428a5c280"
      },
      "outputs": [
        {
          "data": {
            "text/plain": [
              "Float64Index([ 6.995103319003263,  7.640148424964499,  9.590592651702766,\n",
              "              10.178644427742828,  10.78985442862133, 11.575365600463355,\n",
              "              12.170809956576681, 13.048968677223552, 13.367388062362181,\n",
              "              14.209545488435396, 15.488800795170471, 15.853531053832869,\n",
              "                16.3128334253823, 16.352038197102495,  16.98387116756606,\n",
              "              17.536214232269266, 17.989393380680234, 18.316169267027547,\n",
              "              18.330848402057153, 18.657690789330154, 18.883161556499847,\n",
              "              18.924595628278645,  18.96348734119981,  19.23402632600408,\n",
              "               19.48573414042562,  19.58581933987662, 19.700079952512667,\n",
              "              19.821239954056594, 19.857463619177754, 19.975351586309372,\n",
              "               20.03583753225472, 20.446334279989376,  20.71003794041169,\n",
              "              21.379978339426536, 22.515949444835982,  23.31282140584638,\n",
              "               23.40349460095522,  23.48514447797809, 23.865719343096035,\n",
              "              24.097128243984947,  24.29473965445868, 24.942781586357793,\n",
              "              26.147284759191873, 26.195533671372182, 26.468040732106033,\n",
              "              27.787239992038554, 28.362005258200462, 29.061674624075014],\n",
              "             dtype='float64', name='obs')"
            ]
          },
          "execution_count": 27,
          "metadata": {},
          "output_type": "execute_result"
        }
      ],
      "source": [
        "grouped_df.index"
      ]
    },
    {
      "cell_type": "code",
      "execution_count": 28,
      "metadata": {
        "colab": {
          "base_uri": "https://localhost:8080/"
        },
        "id": "-eZmkfeBaRCt",
        "outputId": "562477bc-456a-4095-e885-f9df590d33e5"
      },
      "outputs": [
        {
          "data": {
            "text/plain": [
              "19.0068857724674"
            ]
          },
          "execution_count": 28,
          "metadata": {},
          "output_type": "execute_result"
        }
      ],
      "source": [
        "df['obs'].mean()"
      ]
    },
    {
      "cell_type": "markdown",
      "metadata": {
        "id": "GYNUHm_WQ18g"
      },
      "source": [
        "grouped_df['POISSON_PMF'] = poisson.pmf(k=grouped_df.index, mu=df['obs'].mean())"
      ]
    },
    {
      "cell_type": "code",
      "execution_count": 45,
      "metadata": {},
      "outputs": [],
      "source": [
        "grouped_df['Normal_pdf']=norm.pdf(grouped_df.index)"
      ]
    },
    {
      "cell_type": "code",
      "execution_count": 37,
      "metadata": {
        "colab": {
          "base_uri": "https://localhost:8080/"
        },
        "id": "5JC1D7g5Q18g",
        "outputId": "162a8277-97c1-4058-a182-701baaef0e39"
      },
      "outputs": [
        {
          "data": {
            "text/plain": [
              "19.0068857724674"
            ]
          },
          "execution_count": 37,
          "metadata": {},
          "output_type": "execute_result"
        }
      ],
      "source": [
        "df['obs'].mean()"
      ]
    },
    {
      "cell_type": "code",
      "execution_count": 47,
      "metadata": {},
      "outputs": [
        {
          "data": {
            "text/plain": [
              "obs\n",
              "6.995103     9.453144e-12\n",
              "7.640148     8.425972e-14\n",
              "9.590593     4.244460e-21\n",
              "10.178644    1.268858e-23\n",
              "10.789854    2.091318e-26\n",
              "Name: Normal_pdf, dtype: float64"
            ]
          },
          "execution_count": 47,
          "metadata": {},
          "output_type": "execute_result"
        }
      ],
      "source": [
        "grouped_df['Normal_pdf'].head()"
      ]
    },
    {
      "cell_type": "markdown",
      "metadata": {
        "colab": {
          "base_uri": "https://localhost:8080/"
        },
        "id": "nilwfyasQ18g",
        "outputId": "66b205e8-3072-4d29-a1cf-24c3ff63a189"
      },
      "source": [
        "grouped_df['POISSON_PMF'].head()"
      ]
    },
    {
      "cell_type": "code",
      "execution_count": 85,
      "metadata": {
        "colab": {
          "base_uri": "https://localhost:8080/",
          "height": 425
        },
        "id": "UAy_NNAXQ18g",
        "outputId": "470f7ba1-e5e5-498e-a720-fab3afaf18a4"
      },
      "outputs": [
        {
          "data": {
            "text/html": [
              "<div>\n",
              "<style scoped>\n",
              "    .dataframe tbody tr th:only-of-type {\n",
              "        vertical-align: middle;\n",
              "    }\n",
              "\n",
              "    .dataframe tbody tr th {\n",
              "        vertical-align: top;\n",
              "    }\n",
              "\n",
              "    .dataframe thead th {\n",
              "        text-align: right;\n",
              "    }\n",
              "</style>\n",
              "<table border=\"1\" class=\"dataframe\">\n",
              "  <thead>\n",
              "    <tr style=\"text-align: right;\">\n",
              "      <th></th>\n",
              "      <th>frequency</th>\n",
              "      <th>OBS_PROBA</th>\n",
              "      <th>POISSON_PMF</th>\n",
              "      <th>Normal_pdf</th>\n",
              "      <th>POISSON_FREQ</th>\n",
              "      <th>Normal_freq</th>\n",
              "    </tr>\n",
              "    <tr>\n",
              "      <th>obs</th>\n",
              "      <th></th>\n",
              "      <th></th>\n",
              "      <th></th>\n",
              "      <th></th>\n",
              "      <th></th>\n",
              "      <th></th>\n",
              "    </tr>\n",
              "  </thead>\n",
              "  <tbody>\n",
              "    <tr>\n",
              "      <th>6.995103</th>\n",
              "      <td>1</td>\n",
              "      <td>0.020833</td>\n",
              "      <td>0.0</td>\n",
              "      <td>9.453144e-12</td>\n",
              "      <td>0.0</td>\n",
              "      <td>0.0</td>\n",
              "    </tr>\n",
              "    <tr>\n",
              "      <th>7.640148</th>\n",
              "      <td>1</td>\n",
              "      <td>0.020833</td>\n",
              "      <td>0.0</td>\n",
              "      <td>8.425972e-14</td>\n",
              "      <td>0.0</td>\n",
              "      <td>0.0</td>\n",
              "    </tr>\n",
              "    <tr>\n",
              "      <th>9.590593</th>\n",
              "      <td>1</td>\n",
              "      <td>0.020833</td>\n",
              "      <td>0.0</td>\n",
              "      <td>4.244460e-21</td>\n",
              "      <td>0.0</td>\n",
              "      <td>0.0</td>\n",
              "    </tr>\n",
              "    <tr>\n",
              "      <th>10.178644</th>\n",
              "      <td>1</td>\n",
              "      <td>0.020833</td>\n",
              "      <td>0.0</td>\n",
              "      <td>1.268858e-23</td>\n",
              "      <td>0.0</td>\n",
              "      <td>0.0</td>\n",
              "    </tr>\n",
              "    <tr>\n",
              "      <th>10.789854</th>\n",
              "      <td>1</td>\n",
              "      <td>0.020833</td>\n",
              "      <td>0.0</td>\n",
              "      <td>2.091318e-26</td>\n",
              "      <td>0.0</td>\n",
              "      <td>0.0</td>\n",
              "    </tr>\n",
              "  </tbody>\n",
              "</table>\n",
              "</div>"
            ],
            "text/plain": [
              "           frequency  OBS_PROBA  POISSON_PMF    Normal_pdf  POISSON_FREQ  \\\n",
              "obs                                                                        \n",
              "6.995103           1   0.020833          0.0  9.453144e-12           0.0   \n",
              "7.640148           1   0.020833          0.0  8.425972e-14           0.0   \n",
              "9.590593           1   0.020833          0.0  4.244460e-21           0.0   \n",
              "10.178644          1   0.020833          0.0  1.268858e-23           0.0   \n",
              "10.789854          1   0.020833          0.0  2.091318e-26           0.0   \n",
              "\n",
              "           Normal_freq  \n",
              "obs                     \n",
              "6.995103           0.0  \n",
              "7.640148           0.0  \n",
              "9.590593           0.0  \n",
              "10.178644          0.0  \n",
              "10.789854          0.0  "
            ]
          },
          "execution_count": 85,
          "metadata": {},
          "output_type": "execute_result"
        }
      ],
      "source": [
        "grouped_df.head()"
      ]
    },
    {
      "cell_type": "code",
      "execution_count": 60,
      "metadata": {
        "id": "ponXQ_NyQ18h"
      },
      "outputs": [],
      "source": [
        "grouped_df['POISSON_FREQ'] = grouped_df['POISSON_PMF']*len(df)\n",
        "grouped_df['Normal_freq'] = grouped_df['Normal_pdf']*len(df)"
      ]
    },
    {
      "cell_type": "code",
      "execution_count": 61,
      "metadata": {
        "colab": {
          "base_uri": "https://localhost:8080/",
          "height": 425
        },
        "id": "REZCO15RQ18h",
        "outputId": "0ecbcc16-740a-49d7-bde5-05090a25c2f1"
      },
      "outputs": [
        {
          "data": {
            "text/html": [
              "<div>\n",
              "<style scoped>\n",
              "    .dataframe tbody tr th:only-of-type {\n",
              "        vertical-align: middle;\n",
              "    }\n",
              "\n",
              "    .dataframe tbody tr th {\n",
              "        vertical-align: top;\n",
              "    }\n",
              "\n",
              "    .dataframe thead th {\n",
              "        text-align: right;\n",
              "    }\n",
              "</style>\n",
              "<table border=\"1\" class=\"dataframe\">\n",
              "  <thead>\n",
              "    <tr style=\"text-align: right;\">\n",
              "      <th></th>\n",
              "      <th>frequency</th>\n",
              "      <th>OBS_PROBA</th>\n",
              "      <th>POISSON_PMF</th>\n",
              "      <th>Normal_pdf</th>\n",
              "      <th>POISSON_FREQ</th>\n",
              "      <th>Normal_freq</th>\n",
              "    </tr>\n",
              "    <tr>\n",
              "      <th>obs</th>\n",
              "      <th></th>\n",
              "      <th></th>\n",
              "      <th></th>\n",
              "      <th></th>\n",
              "      <th></th>\n",
              "      <th></th>\n",
              "    </tr>\n",
              "  </thead>\n",
              "  <tbody>\n",
              "    <tr>\n",
              "      <th>6.995103</th>\n",
              "      <td>1</td>\n",
              "      <td>0.020833</td>\n",
              "      <td>0.0</td>\n",
              "      <td>9.453144e-12</td>\n",
              "      <td>0.0</td>\n",
              "      <td>4.537509e-10</td>\n",
              "    </tr>\n",
              "    <tr>\n",
              "      <th>7.640148</th>\n",
              "      <td>1</td>\n",
              "      <td>0.020833</td>\n",
              "      <td>0.0</td>\n",
              "      <td>8.425972e-14</td>\n",
              "      <td>0.0</td>\n",
              "      <td>4.044466e-12</td>\n",
              "    </tr>\n",
              "    <tr>\n",
              "      <th>9.590593</th>\n",
              "      <td>1</td>\n",
              "      <td>0.020833</td>\n",
              "      <td>0.0</td>\n",
              "      <td>4.244460e-21</td>\n",
              "      <td>0.0</td>\n",
              "      <td>2.037341e-19</td>\n",
              "    </tr>\n",
              "    <tr>\n",
              "      <th>10.178644</th>\n",
              "      <td>1</td>\n",
              "      <td>0.020833</td>\n",
              "      <td>0.0</td>\n",
              "      <td>1.268858e-23</td>\n",
              "      <td>0.0</td>\n",
              "      <td>6.090519e-22</td>\n",
              "    </tr>\n",
              "    <tr>\n",
              "      <th>10.789854</th>\n",
              "      <td>1</td>\n",
              "      <td>0.020833</td>\n",
              "      <td>0.0</td>\n",
              "      <td>2.091318e-26</td>\n",
              "      <td>0.0</td>\n",
              "      <td>1.003833e-24</td>\n",
              "    </tr>\n",
              "  </tbody>\n",
              "</table>\n",
              "</div>"
            ],
            "text/plain": [
              "           frequency  OBS_PROBA  POISSON_PMF    Normal_pdf  POISSON_FREQ  \\\n",
              "obs                                                                        \n",
              "6.995103           1   0.020833          0.0  9.453144e-12           0.0   \n",
              "7.640148           1   0.020833          0.0  8.425972e-14           0.0   \n",
              "9.590593           1   0.020833          0.0  4.244460e-21           0.0   \n",
              "10.178644          1   0.020833          0.0  1.268858e-23           0.0   \n",
              "10.789854          1   0.020833          0.0  2.091318e-26           0.0   \n",
              "\n",
              "            Normal_freq  \n",
              "obs                      \n",
              "6.995103   4.537509e-10  \n",
              "7.640148   4.044466e-12  \n",
              "9.590593   2.037341e-19  \n",
              "10.178644  6.090519e-22  \n",
              "10.789854  1.003833e-24  "
            ]
          },
          "execution_count": 61,
          "metadata": {},
          "output_type": "execute_result"
        }
      ],
      "source": [
        "grouped_df.head()"
      ]
    },
    {
      "cell_type": "code",
      "execution_count": 70,
      "metadata": {
        "id": "weriuF-_Q18h"
      },
      "outputs": [],
      "source": [
        "\n",
        "grouped_df['Normal_freq'] = [round(elem,9) for elem in grouped_df['Normal_freq']]"
      ]
    },
    {
      "cell_type": "code",
      "execution_count": 71,
      "metadata": {
        "colab": {
          "base_uri": "https://localhost:8080/",
          "height": 425
        },
        "id": "Zt4EzfqBQ18i",
        "outputId": "767676a8-3290-44ab-b3a1-8fe3aa28630d"
      },
      "outputs": [
        {
          "data": {
            "text/html": [
              "<div>\n",
              "<style scoped>\n",
              "    .dataframe tbody tr th:only-of-type {\n",
              "        vertical-align: middle;\n",
              "    }\n",
              "\n",
              "    .dataframe tbody tr th {\n",
              "        vertical-align: top;\n",
              "    }\n",
              "\n",
              "    .dataframe thead th {\n",
              "        text-align: right;\n",
              "    }\n",
              "</style>\n",
              "<table border=\"1\" class=\"dataframe\">\n",
              "  <thead>\n",
              "    <tr style=\"text-align: right;\">\n",
              "      <th></th>\n",
              "      <th>frequency</th>\n",
              "      <th>OBS_PROBA</th>\n",
              "      <th>POISSON_PMF</th>\n",
              "      <th>Normal_pdf</th>\n",
              "      <th>POISSON_FREQ</th>\n",
              "      <th>Normal_freq</th>\n",
              "    </tr>\n",
              "    <tr>\n",
              "      <th>obs</th>\n",
              "      <th></th>\n",
              "      <th></th>\n",
              "      <th></th>\n",
              "      <th></th>\n",
              "      <th></th>\n",
              "      <th></th>\n",
              "    </tr>\n",
              "  </thead>\n",
              "  <tbody>\n",
              "    <tr>\n",
              "      <th>6.995103</th>\n",
              "      <td>1</td>\n",
              "      <td>0.020833</td>\n",
              "      <td>0.0</td>\n",
              "      <td>9.453144e-12</td>\n",
              "      <td>0.0</td>\n",
              "      <td>0.0</td>\n",
              "    </tr>\n",
              "    <tr>\n",
              "      <th>7.640148</th>\n",
              "      <td>1</td>\n",
              "      <td>0.020833</td>\n",
              "      <td>0.0</td>\n",
              "      <td>8.425972e-14</td>\n",
              "      <td>0.0</td>\n",
              "      <td>0.0</td>\n",
              "    </tr>\n",
              "    <tr>\n",
              "      <th>9.590593</th>\n",
              "      <td>1</td>\n",
              "      <td>0.020833</td>\n",
              "      <td>0.0</td>\n",
              "      <td>4.244460e-21</td>\n",
              "      <td>0.0</td>\n",
              "      <td>0.0</td>\n",
              "    </tr>\n",
              "    <tr>\n",
              "      <th>10.178644</th>\n",
              "      <td>1</td>\n",
              "      <td>0.020833</td>\n",
              "      <td>0.0</td>\n",
              "      <td>1.268858e-23</td>\n",
              "      <td>0.0</td>\n",
              "      <td>0.0</td>\n",
              "    </tr>\n",
              "    <tr>\n",
              "      <th>10.789854</th>\n",
              "      <td>1</td>\n",
              "      <td>0.020833</td>\n",
              "      <td>0.0</td>\n",
              "      <td>2.091318e-26</td>\n",
              "      <td>0.0</td>\n",
              "      <td>0.0</td>\n",
              "    </tr>\n",
              "  </tbody>\n",
              "</table>\n",
              "</div>"
            ],
            "text/plain": [
              "           frequency  OBS_PROBA  POISSON_PMF    Normal_pdf  POISSON_FREQ  \\\n",
              "obs                                                                        \n",
              "6.995103           1   0.020833          0.0  9.453144e-12           0.0   \n",
              "7.640148           1   0.020833          0.0  8.425972e-14           0.0   \n",
              "9.590593           1   0.020833          0.0  4.244460e-21           0.0   \n",
              "10.178644          1   0.020833          0.0  1.268858e-23           0.0   \n",
              "10.789854          1   0.020833          0.0  2.091318e-26           0.0   \n",
              "\n",
              "           Normal_freq  \n",
              "obs                     \n",
              "6.995103           0.0  \n",
              "7.640148           0.0  \n",
              "9.590593           0.0  \n",
              "10.178644          0.0  \n",
              "10.789854          0.0  "
            ]
          },
          "execution_count": 71,
          "metadata": {},
          "output_type": "execute_result"
        }
      ],
      "source": [
        "grouped_df.head()"
      ]
    },
    {
      "cell_type": "code",
      "execution_count": 72,
      "metadata": {},
      "outputs": [],
      "source": [
        "obs_freq = list(grouped_df['frequency'])\n",
        "expec_freq = list(grouped_df['Normal_freq'])"
      ]
    },
    {
      "cell_type": "markdown",
      "metadata": {
        "id": "zKhuucD0Q18i"
      },
      "source": [
        "obs_freq = list(grouped_df['frequency'])\n",
        "expec_freq = list(grouped_df['POISSON_FREQ'])"
      ]
    },
    {
      "cell_type": "markdown",
      "metadata": {
        "id": "JWhvd81vQ18i"
      },
      "source": [
        "NULL HYPOTHESIS: The given data follows Poisson distribution.\n",
        "\n",
        "---\n",
        "\n",
        "\n",
        "ALTERNATE HYPOTHESIS: The given data does not follow Poisson distribution"
      ]
    },
    {
      "cell_type": "code",
      "execution_count": 73,
      "metadata": {
        "colab": {
          "base_uri": "https://localhost:8080/"
        },
        "id": "P2LtaWSLbDad",
        "outputId": "938f14a1-819e-42f0-b71f-210c318a5f25"
      },
      "outputs": [
        {
          "data": {
            "text/plain": [
              "[1,\n",
              " 1,\n",
              " 1,\n",
              " 1,\n",
              " 1,\n",
              " 1,\n",
              " 1,\n",
              " 1,\n",
              " 1,\n",
              " 1,\n",
              " 1,\n",
              " 1,\n",
              " 1,\n",
              " 1,\n",
              " 1,\n",
              " 1,\n",
              " 1,\n",
              " 1,\n",
              " 1,\n",
              " 1,\n",
              " 1,\n",
              " 1,\n",
              " 1,\n",
              " 1,\n",
              " 1,\n",
              " 1,\n",
              " 1,\n",
              " 1,\n",
              " 1,\n",
              " 1,\n",
              " 1,\n",
              " 1,\n",
              " 1,\n",
              " 1,\n",
              " 1,\n",
              " 1,\n",
              " 1,\n",
              " 1,\n",
              " 1,\n",
              " 1,\n",
              " 1,\n",
              " 1,\n",
              " 1,\n",
              " 1,\n",
              " 1,\n",
              " 1,\n",
              " 1,\n",
              " 1]"
            ]
          },
          "execution_count": 73,
          "metadata": {},
          "output_type": "execute_result"
        }
      ],
      "source": [
        "obs_freq"
      ]
    },
    {
      "cell_type": "code",
      "execution_count": 74,
      "metadata": {
        "colab": {
          "base_uri": "https://localhost:8080/"
        },
        "id": "rlVzOONHbHW9",
        "outputId": "099d4736-5a2e-446f-86d4-0a8350115746"
      },
      "outputs": [
        {
          "data": {
            "text/plain": [
              "[0.0,\n",
              " 0.0,\n",
              " 0.0,\n",
              " 0.0,\n",
              " 0.0,\n",
              " 0.0,\n",
              " 0.0,\n",
              " 0.0,\n",
              " 0.0,\n",
              " 0.0,\n",
              " 0.0,\n",
              " 0.0,\n",
              " 0.0,\n",
              " 0.0,\n",
              " 0.0,\n",
              " 0.0,\n",
              " 0.0,\n",
              " 0.0,\n",
              " 0.0,\n",
              " 0.0,\n",
              " 0.0,\n",
              " 0.0,\n",
              " 0.0,\n",
              " 0.0,\n",
              " 0.0,\n",
              " 0.0,\n",
              " 0.0,\n",
              " 0.0,\n",
              " 0.0,\n",
              " 0.0,\n",
              " 0.0,\n",
              " 0.0,\n",
              " 0.0,\n",
              " 0.0,\n",
              " 0.0,\n",
              " 0.0,\n",
              " 0.0,\n",
              " 0.0,\n",
              " 0.0,\n",
              " 0.0,\n",
              " 0.0,\n",
              " 0.0,\n",
              " 0.0,\n",
              " 0.0,\n",
              " 0.0,\n",
              " 0.0,\n",
              " 0.0,\n",
              " 0.0]"
            ]
          },
          "execution_count": 74,
          "metadata": {},
          "output_type": "execute_result"
        }
      ],
      "source": [
        "expec_freq"
      ]
    },
    {
      "cell_type": "code",
      "execution_count": 75,
      "metadata": {
        "colab": {
          "base_uri": "https://localhost:8080/"
        },
        "id": "B5MO5FyGQ18l",
        "outputId": "f3f0e7c0-794e-45de-e63a-e7eabc77ec1c"
      },
      "outputs": [
        {
          "name": "stderr",
          "output_type": "stream",
          "text": [
            "c:\\Users\\User\\anaconda3\\lib\\site-packages\\scipy\\stats\\stats.py:6685: RuntimeWarning: divide by zero encountered in double_scalars\n",
            "  relative_diff = (np.abs(f_obs_sum - f_exp_sum) /\n"
          ]
        },
        {
          "ename": "ValueError",
          "evalue": "For each axis slice, the sum of the observed frequencies must agree with the sum of the expected frequencies to a relative tolerance of 1e-08, but the percent differences are:\ninf",
          "output_type": "error",
          "traceback": [
            "\u001b[1;31m---------------------------------------------------------------------------\u001b[0m",
            "\u001b[1;31mValueError\u001b[0m                                Traceback (most recent call last)",
            "\u001b[1;32m~\\AppData\\Local\\Temp/ipykernel_13652/1601183995.py\u001b[0m in \u001b[0;36m<module>\u001b[1;34m\u001b[0m\n\u001b[1;32m----> 1\u001b[1;33m \u001b[0mstats\u001b[0m\u001b[1;33m.\u001b[0m\u001b[0mchisquare\u001b[0m\u001b[1;33m(\u001b[0m\u001b[0mobs_freq\u001b[0m\u001b[1;33m,\u001b[0m \u001b[0mexpec_freq\u001b[0m\u001b[1;33m)\u001b[0m\u001b[1;33m\u001b[0m\u001b[1;33m\u001b[0m\u001b[0m\n\u001b[0m",
            "\u001b[1;32mc:\\Users\\User\\anaconda3\\lib\\site-packages\\scipy\\stats\\stats.py\u001b[0m in \u001b[0;36mchisquare\u001b[1;34m(f_obs, f_exp, ddof, axis)\u001b[0m\n\u001b[0;32m   6850\u001b[0m \u001b[1;33m\u001b[0m\u001b[0m\n\u001b[0;32m   6851\u001b[0m     \"\"\"\n\u001b[1;32m-> 6852\u001b[1;33m     return power_divergence(f_obs, f_exp=f_exp, ddof=ddof, axis=axis,\n\u001b[0m\u001b[0;32m   6853\u001b[0m                             lambda_=\"pearson\")\n\u001b[0;32m   6854\u001b[0m \u001b[1;33m\u001b[0m\u001b[0m\n",
            "\u001b[1;32mc:\\Users\\User\\anaconda3\\lib\\site-packages\\scipy\\stats\\stats.py\u001b[0m in \u001b[0;36mpower_divergence\u001b[1;34m(f_obs, f_exp, ddof, axis, lambda_)\u001b[0m\n\u001b[0;32m   6692\u001b[0m                    \u001b[1;34mf\"of {rtol}, but the percent differences are:\\n\"\u001b[0m\u001b[1;33m\u001b[0m\u001b[1;33m\u001b[0m\u001b[0m\n\u001b[0;32m   6693\u001b[0m                    f\"{relative_diff}\")\n\u001b[1;32m-> 6694\u001b[1;33m             \u001b[1;32mraise\u001b[0m \u001b[0mValueError\u001b[0m\u001b[1;33m(\u001b[0m\u001b[0mmsg\u001b[0m\u001b[1;33m)\u001b[0m\u001b[1;33m\u001b[0m\u001b[1;33m\u001b[0m\u001b[0m\n\u001b[0m\u001b[0;32m   6695\u001b[0m \u001b[1;33m\u001b[0m\u001b[0m\n\u001b[0;32m   6696\u001b[0m     \u001b[1;32melse\u001b[0m\u001b[1;33m:\u001b[0m\u001b[1;33m\u001b[0m\u001b[1;33m\u001b[0m\u001b[0m\n",
            "\u001b[1;31mValueError\u001b[0m: For each axis slice, the sum of the observed frequencies must agree with the sum of the expected frequencies to a relative tolerance of 1e-08, but the percent differences are:\ninf"
          ]
        }
      ],
      "source": [
        "stats.chisquare(obs_freq, expec_freq)"
      ]
    },
    {
      "cell_type": "code",
      "execution_count": 76,
      "metadata": {
        "id": "JQgwA1aGQ18m"
      },
      "outputs": [],
      "source": [
        "import scipy.stats"
      ]
    },
    {
      "cell_type": "code",
      "execution_count": 93,
      "metadata": {
        "colab": {
          "base_uri": "https://localhost:8080/"
        },
        "id": "RV7iX63LQ18n",
        "outputId": "e89efa96-3d2b-47cb-99e7-4843f4c0f3ee"
      },
      "outputs": [
        {
          "data": {
            "text/plain": [
              "61.65623337627955"
            ]
          },
          "execution_count": 93,
          "metadata": {},
          "output_type": "execute_result"
        }
      ],
      "source": [
        "scipy.stats.chi2.ppf(1-.05,df=45)\n"
      ]
    },
    {
      "cell_type": "code",
      "execution_count": 94,
      "metadata": {
        "id": "WoncRTTEcNqW"
      },
      "outputs": [
        {
          "data": {
            "text/plain": [
              "7.814727903251179"
            ]
          },
          "execution_count": 94,
          "metadata": {},
          "output_type": "execute_result"
        }
      ],
      "source": [
        "scipy.stats.chi2.ppf(1-.05,df=3)"
      ]
    }
  ],
  "metadata": {
    "colab": {
      "collapsed_sections": [],
      "name": "Copy of data_1_distribution.ipynb",
      "provenance": []
    },
    "interpreter": {
      "hash": "f08154012ddadd8e950e6e9e035c7a7b32c136e7647e9b7c77e02eb723a8bedb"
    },
    "kernelspec": {
      "display_name": "Python 3.9.7 ('base')",
      "language": "python",
      "name": "python3"
    },
    "language_info": {
      "codemirror_mode": {
        "name": "ipython",
        "version": 3
      },
      "file_extension": ".py",
      "mimetype": "text/x-python",
      "name": "python",
      "nbconvert_exporter": "python",
      "pygments_lexer": "ipython3",
      "version": "3.9.7"
    }
  },
  "nbformat": 4,
  "nbformat_minor": 0
}
